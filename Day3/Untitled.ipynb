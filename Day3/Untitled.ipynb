{
 "cells": [
  {
   "cell_type": "code",
   "execution_count": null,
   "metadata": {},
   "outputs": [
    {
     "name": "stdout",
     "output_type": "stream",
     "text": [
      "1.Add Items\n",
      "2.Remove Item\n",
      "3.Update Item\n",
      "4.Display Item\n",
      "5.Exit\n"
     ]
    }
   ],
   "source": [
    "\n",
    "#if __name__ == \"__main__\":\n",
    "#    main()\n",
    "\n",
    "def main():\n",
    "    print(\"1.Add Items\")\n",
    "    print(\"2.Remove Item\")\n",
    "    print(\"3.Update Item\")\n",
    "    print(\"4.Display Item\")\n",
    "    print(\"5.Exit\")\n",
    "    choice = int(input())\n",
    "    #print(choice)\n",
    "    return choice;\n",
    "\n",
    "def add_items():\n",
    "    r = int(input(\"Enter Number of items to add with the cost : \\n\"))\n",
    "    for i in range(r):\n",
    "        new = []\n",
    "        item = input(\"Enter the Item Name : \\n\")\n",
    "        new.append(item)\n",
    "        #elem[i].append(item)\n",
    "        cost = float(input(\"Enter the cost for \",item,\" :\\n\"))\n",
    "        elem[i+1].append(cost)\n",
    "        print(elem)\n",
    "        print(elem[i][i+1])\n",
    "\n",
    "def remove_item():\n",
    "    None\n",
    "\n",
    "def update_item():\n",
    "    None\n",
    "    \n",
    "def display():\n",
    "    None\n",
    "\n",
    "choice = 1\n",
    "elem = []\n",
    "elem.append([])\n",
    "elem.append([])\n",
    "\n",
    "while choice in (1,2,3,4):\n",
    "    choice = main()\n",
    "    if choice == 1:\n",
    "        add_items()\n",
    "    elif choice == 2:\n",
    "        remove_item()\n",
    "    elif choice == 3:\n",
    "        update_item()\n",
    "    elif choice == 4:\n",
    "        display()\n",
    "    else:\n",
    "        print(\"Thank you\")\n",
    "\n",
    "\n"
   ]
  },
  {
   "cell_type": "code",
   "execution_count": null,
   "metadata": {},
   "outputs": [],
   "source": []
  }
 ],
 "metadata": {
  "kernelspec": {
   "display_name": "Python 3",
   "language": "python",
   "name": "python3"
  },
  "language_info": {
   "codemirror_mode": {
    "name": "ipython",
    "version": 3
   },
   "file_extension": ".py",
   "mimetype": "text/x-python",
   "name": "python",
   "nbconvert_exporter": "python",
   "pygments_lexer": "ipython3",
   "version": "3.7.3"
  }
 },
 "nbformat": 4,
 "nbformat_minor": 2
}
