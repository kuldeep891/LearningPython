{
 "cells": [
  {
   "cell_type": "code",
   "execution_count": 2,
   "metadata": {},
   "outputs": [
    {
     "name": "stdout",
     "output_type": "stream",
     "text": [
      "1.Add items\n",
      "2.Remove Item\n",
      "3.Update Item\n",
      "4.Display Item\n",
      "5.Exit\n"
     ]
    },
    {
     "name": "stdin",
     "output_type": "stream",
     "text": [
      "Enter the choice :\n",
      " 1\n",
      "Enter number of values :\n",
      " 3\n",
      "Enter the value : \n",
      " 12\n",
      "Enter the value : \n",
      " 13\n",
      "Enter the value : \n",
      " 14\n"
     ]
    },
    {
     "name": "stdout",
     "output_type": "stream",
     "text": [
      "1.Add items\n",
      "2.Remove Item\n",
      "3.Update Item\n",
      "4.Display Item\n",
      "5.Exit\n"
     ]
    },
    {
     "name": "stdin",
     "output_type": "stream",
     "text": [
      "Enter the choice :\n",
      " 4\n"
     ]
    },
    {
     "name": "stdout",
     "output_type": "stream",
     "text": [
      "Elements at pos  0  is  12\n",
      "Elements at pos  1  is  13\n",
      "Elements at pos  2  is  14\n",
      "1.Add items\n",
      "2.Remove Item\n",
      "3.Update Item\n",
      "4.Display Item\n",
      "5.Exit\n"
     ]
    },
    {
     "name": "stdin",
     "output_type": "stream",
     "text": [
      "Enter the choice :\n",
      " 3\n",
      "Enter which position element to update : \n",
      " 2\n",
      "Enter the item value : \n",
      " 56\n"
     ]
    },
    {
     "name": "stdout",
     "output_type": "stream",
     "text": [
      "1.Add items\n",
      "2.Remove Item\n",
      "3.Update Item\n",
      "4.Display Item\n",
      "5.Exit\n"
     ]
    },
    {
     "name": "stdin",
     "output_type": "stream",
     "text": [
      "Enter the choice :\n",
      " 4\n"
     ]
    },
    {
     "name": "stdout",
     "output_type": "stream",
     "text": [
      "Elements at pos  0  is  12\n",
      "Elements at pos  1  is  13\n",
      "Elements at pos  2  is  56\n",
      "1.Add items\n",
      "2.Remove Item\n",
      "3.Update Item\n",
      "4.Display Item\n",
      "5.Exit\n"
     ]
    },
    {
     "name": "stdin",
     "output_type": "stream",
     "text": [
      "Enter the choice :\n",
      " 2\n",
      "Wich item to remove?\n",
      " 15\n"
     ]
    },
    {
     "name": "stdout",
     "output_type": "stream",
     "text": [
      "15  doesnt exist\n",
      "1.Add items\n",
      "2.Remove Item\n",
      "3.Update Item\n",
      "4.Display Item\n",
      "5.Exit\n"
     ]
    },
    {
     "name": "stdin",
     "output_type": "stream",
     "text": [
      "Enter the choice :\n",
      " 2\n",
      "Wich item to remove?\n",
      " 12\n"
     ]
    },
    {
     "name": "stdout",
     "output_type": "stream",
     "text": [
      "1.Add items\n",
      "2.Remove Item\n",
      "3.Update Item\n",
      "4.Display Item\n",
      "5.Exit\n"
     ]
    },
    {
     "name": "stdin",
     "output_type": "stream",
     "text": [
      "Enter the choice :\n",
      " 4\n"
     ]
    },
    {
     "name": "stdout",
     "output_type": "stream",
     "text": [
      "Elements at pos  0  is  13\n",
      "Elements at pos  1  is  56\n",
      "1.Add items\n",
      "2.Remove Item\n",
      "3.Update Item\n",
      "4.Display Item\n",
      "5.Exit\n"
     ]
    },
    {
     "name": "stdin",
     "output_type": "stream",
     "text": [
      "Enter the choice :\n",
      " 6\n"
     ]
    },
    {
     "name": "stdout",
     "output_type": "stream",
     "text": [
      "Thanks\n"
     ]
    }
   ],
   "source": [
    "choice = 0\n",
    "elem = []    \n",
    "\n",
    "#while((choice >=0) and (choice < 5)):\n",
    "while(choice in (0,1,2,3,4)):\n",
    "    print(\"1.Add items\")\n",
    "    print(\"2.Remove Item\")\n",
    "    print(\"3.Update Item\")\n",
    "    print(\"4.Display Item\")\n",
    "    print(\"5.Exit\")\n",
    "    choice = int(float(input(\"Enter the choice :\\n\")))\n",
    "    \n",
    "    if(choice==1):\n",
    "        i=int(input(\"Enter number of values :\\n\"))\n",
    "        for i in range(i):\n",
    "            item = input(\"Enter the value : \\n\")\n",
    "            elem.append(item)\n",
    "    elif(choice == 2):\n",
    "        item = input(\"Wich item to remove?\\n\")\n",
    "        if(item in elem):\n",
    "            elem.remove(item)\n",
    "        else:\n",
    "            print(item,\" doesnt exist\")\n",
    "    elif(choice == 3):\n",
    "        pos = int(input(\"Enter which position element to update : \\n\"))\n",
    "        item = input(\"Enter the item value : \\n\")\n",
    "        if(len(elem) < pos):\n",
    "            print(pos,\" is outside the range\")\n",
    "        else:\n",
    "            elem[pos] = item\n",
    "    elif(choice == 4):\n",
    "        for i in range(len(elem)):\n",
    "            print(\"Elements at pos \",i,\" is \",elem[i])\n",
    "    else:\n",
    "        print(\"Thanks\")\n",
    "        \n",
    "        "
   ]
  },
  {
   "cell_type": "markdown",
   "metadata": {},
   "source": [
    "# "
   ]
  }
 ],
 "metadata": {
  "kernelspec": {
   "display_name": "Python 3",
   "language": "python",
   "name": "python3"
  },
  "language_info": {
   "codemirror_mode": {
    "name": "ipython",
    "version": 3
   },
   "file_extension": ".py",
   "mimetype": "text/x-python",
   "name": "python",
   "nbconvert_exporter": "python",
   "pygments_lexer": "ipython3",
   "version": "3.7.3"
  }
 },
 "nbformat": 4,
 "nbformat_minor": 2
}
