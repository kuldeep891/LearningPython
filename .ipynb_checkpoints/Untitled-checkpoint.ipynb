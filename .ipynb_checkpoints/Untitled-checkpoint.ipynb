{
 "cells": [
  {
   "cell_type": "code",
   "execution_count": 2,
   "metadata": {},
   "outputs": [
    {
     "name": "stdout",
     "output_type": "stream",
     "text": [
      "Are you Physically fit ? {Y/N}\n",
      "Y\n",
      "Is it raining outside? {Y/N}\n",
      "Y\n",
      "Are you interested in playing football ? {Y/N}\n",
      "Y\n",
      "Do you have friends interested in playing football ? {Y/N}\n",
      "Y\n"
     ]
    },
    {
     "ename": "NameError",
     "evalue": "name 'outcome' is not defined",
     "output_type": "error",
     "traceback": [
      "\u001b[1;31m---------------------------------------------------------------------------\u001b[0m",
      "\u001b[1;31mNameError\u001b[0m                                 Traceback (most recent call last)",
      "\u001b[1;32m<ipython-input-2-241904d3bbb4>\u001b[0m in \u001b[0;36m<module>\u001b[1;34m\u001b[0m\n\u001b[0;32m     24\u001b[0m \u001b[0mfrnd\u001b[0m\u001b[1;33m=\u001b[0m\u001b[0minput\u001b[0m\u001b[1;33m(\u001b[0m\u001b[1;33m)\u001b[0m\u001b[1;33m\u001b[0m\u001b[1;33m\u001b[0m\u001b[0m\n\u001b[0;32m     25\u001b[0m \u001b[1;33m\u001b[0m\u001b[0m\n\u001b[1;32m---> 26\u001b[1;33m \u001b[0mprint\u001b[0m\u001b[1;33m(\u001b[0m\u001b[0moutcome\u001b[0m\u001b[1;33m(\u001b[0m\u001b[0mfit\u001b[0m\u001b[1;33m,\u001b[0m\u001b[0mrain\u001b[0m\u001b[1;33m,\u001b[0m\u001b[0mfb\u001b[0m\u001b[1;33m,\u001b[0m\u001b[0mfrnd\u001b[0m\u001b[1;33m)\u001b[0m\u001b[1;33m)\u001b[0m\u001b[1;33m\u001b[0m\u001b[1;33m\u001b[0m\u001b[0m\n\u001b[0m\u001b[0;32m     27\u001b[0m \u001b[1;33m\u001b[0m\u001b[0m\n\u001b[0;32m     28\u001b[0m \u001b[1;32mdef\u001b[0m \u001b[0moutcome\u001b[0m\u001b[1;33m(\u001b[0m \u001b[0mfit\u001b[0m\u001b[1;33m,\u001b[0m\u001b[0mrain\u001b[0m\u001b[1;33m,\u001b[0m\u001b[0mfb\u001b[0m\u001b[1;33m,\u001b[0m\u001b[0mfrnd\u001b[0m \u001b[1;33m)\u001b[0m\u001b[1;33m:\u001b[0m\u001b[1;33m\u001b[0m\u001b[1;33m\u001b[0m\u001b[0m\n",
      "\u001b[1;31mNameError\u001b[0m: name 'outcome' is not defined"
     ]
    }
   ],
   "source": [
    "#You have to make the decision making program which will ask user the answers of 4 questions..\n",
    "#And based on answers of 4 questions, user have to make the combination of conditions to decide \n",
    "#whether a child will go out for playing or not.\n",
    "\n",
    "#Question can be of this type:\n",
    "\n",
    "#1. Are you physically fit?\n",
    "#2. Is it raining outside or sunny?\n",
    "#3. Are u interested to play football?\n",
    "#4. Do u have friends outside to play?\n",
    "\n",
    "#Above are example questions u can make use of  them or use ur own questions\n",
    "\n",
    "print('Are you Physically fit ? {Y/N}')\n",
    "fit=input()\n",
    "\n",
    "print('Is it raining outside? {Y/N}')\n",
    "rain=input()\n",
    "\n",
    "print ('Are you interested in playing football ? {Y/N}')\n",
    "fb = input()\n",
    "\n",
    "print('Do you have friends interested in playing football ? {Y/N}')\n",
    "frnd=input()\n",
    "\n",
    "\n",
    "\n",
    "def outcome( fit,rain,fb,frnd ):\n",
    "    if(fit == 'Y'):\n",
    "        if( rain == 'Y' ):\n",
    "            return \"Cant Play due to Rain\"\n",
    "    \n",
    "str=outcome(fit,rain,fb,frnd)\n",
    "print(str)    \n"
   ]
  },
  {
   "cell_type": "code",
   "execution_count": null,
   "metadata": {},
   "outputs": [],
   "source": []
  }
 ],
 "metadata": {
  "kernelspec": {
   "display_name": "Python 3",
   "language": "python",
   "name": "python3"
  },
  "language_info": {
   "codemirror_mode": {
    "name": "ipython",
    "version": 3
   },
   "file_extension": ".py",
   "mimetype": "text/x-python",
   "name": "python",
   "nbconvert_exporter": "python",
   "pygments_lexer": "ipython3",
   "version": "3.7.3"
  }
 },
 "nbformat": 4,
 "nbformat_minor": 2
}
