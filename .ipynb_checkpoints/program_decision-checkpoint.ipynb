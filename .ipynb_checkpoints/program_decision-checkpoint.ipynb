{
 "cells": [
  {
   "cell_type": "code",
   "execution_count": 3,
   "metadata": {},
   "outputs": [
    {
     "name": "stdout",
     "output_type": "stream",
     "text": [
      "Are you Physically fit ? {Y/N}\n",
      "Y\n",
      "Is it raining outside? {Y/N}\n",
      "Y\n",
      "Are you interested in playing football ? {Y/N}\n",
      "Y\n",
      "Do you have friends interested in playing football ? {Y/N}\n",
      "Y\n",
      "Cant Play due to Rain\n"
     ]
    }
   ],
   "source": [
    "#You have to make the decision making program which will ask user the answers of 4 questions..\n",
    "#And based on answers of 4 questions, user have to make the combination of conditions to decide \n",
    "#whether a child will go out for playing or not.\n",
    "\n",
    "#Question can be of this type:\n",
    "\n",
    "#1. Are you physically fit?\n",
    "#2. Is it raining outside or sunny?\n",
    "#3. Are u interested to play football?\n",
    "#4. Do u have friends outside to play?\n",
    "\n",
    "#Above are example questions u can make use of  them or use ur own questions\n",
    "\n",
    "print('Are you Physically fit ? {Y/N}')\n",
    "fit=input()\n",
    "\n",
    "print('Is it raining outside? {Y/N}')\n",
    "rain=input()\n",
    "\n",
    "print ('Are you interested in playing football ? {Y/N}')\n",
    "fb = input()\n",
    "\n",
    "print('Do you have friends interested in playing football ? {Y/N}')\n",
    "frnd=input()\n",
    "\n",
    "\n",
    "\n",
    "def outcome( fit,rain,fb,frnd ):\n",
    "    if(fit == 'Y'):\n",
    "        if( rain == 'Y' ):\n",
    "            return \"Cant Play due to Rain\"\n",
    "    \n",
    "str=outcome(fit,rain,fb,frnd)\n",
    "print(str)    \n"
   ]
  },
  {
   "cell_type": "code",
   "execution_count": null,
   "metadata": {},
   "outputs": [],
   "source": []
  }
 ],
 "metadata": {
  "kernelspec": {
   "display_name": "Python 3",
   "language": "python",
   "name": "python3"
  },
  "language_info": {
   "codemirror_mode": {
    "name": "ipython",
    "version": 3
   },
   "file_extension": ".py",
   "mimetype": "text/x-python",
   "name": "python",
   "nbconvert_exporter": "python",
   "pygments_lexer": "ipython3",
   "version": "3.7.3"
  }
 },
 "nbformat": 4,
 "nbformat_minor": 2
}
